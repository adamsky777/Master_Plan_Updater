{
 "cells": [
  {
   "cell_type": "code",
   "execution_count": null,
   "id": "initial_id",
   "metadata": {
    "collapsed": true
   },
   "outputs": [],
   "source": [
    "import os\n",
    "import time\n",
    "import gspread\n",
    "from gspread.exceptions import APIError\n",
    "\n",
    "def update_with_backoff(sheet_name, worksheet_name, start_row, start_col, num_updates, multiplier):\n",
    "    \"\"\"\n",
    "    Updates cells in a Google Sheet with a backoff algorithm to handle rate limits.\n",
    "\n",
    "    :param sheet_name: The name of the Google Sheet.\n",
    "    :param worksheet_name: The name of the worksheet in the Google Sheet.\n",
    "    :param start_row: The starting row for updates.\n",
    "    :param start_col: The starting column for updates.\n",
    "    :param num_updates: The number of cells to update.\n",
    "    :param multiplier: The value to multiply for each update.\n",
    "    \"\"\"\n",
    "    try:\n",
    "        # Authenticate with Google Sheets API\n",
    "        gc_filepath = os.path.expanduser('~google_secret.json')\n",
    "        gc = gspread.service_account(filename=gc_filepath)\n",
    "        sheet = gc.open(sheet_name)\n",
    "        worksheet = sheet.worksheet(worksheet_name)\n",
    "\n",
    "        for i in range(num_updates):\n",
    "            row = start_row\n",
    "            col = start_col + i\n",
    "            value = multiplier * i\n",
    "\n",
    "            retries = 100  # Maximum number of retries\n",
    "            delay = 1    # Initial delay in seconds\n",
    "\n",
    "            while retries > 0:\n",
    "                try:\n",
    "                    worksheet.update_cell(row, col, value)\n",
    "                    print(f\"Updated cell ({row}, {col}) with value {value}\")\n",
    "                    break  # Break if the update is successful\n",
    "                except APIError as e:\n",
    "                    error_message = str(e)\n",
    "                    if \"Quota exceeded\" in error_message or \"[429]\" in error_message:\n",
    "                        print(f\"Quota exceeded. Retrying in {delay} seconds...\")\n",
    "                        time.sleep(delay)\n",
    "                        delay *= 2  # Exponential backoff\n",
    "                        retries -= 1\n",
    "                    else:\n",
    "                        raise  # Re-raise if it's a different error\n",
    "            else:\n",
    "                print(f\"Failed to update cell ({row}, {col}) after multiple retries.\")\n",
    "\n",
    "        print(\"Cells updated successfully!\")\n",
    "\n",
    "    except Exception as e:\n",
    "        print(f\"An error occurred: {e}\")\n",
    "\n",
    "# Call the function to update cells with backoff logic\n",
    "update_with_backoff(\n",
    "    sheet_name='',\n",
    "    worksheet_name='',\n",
    "    start_row=1,\n",
    "    start_col=2,\n",
    "    num_updates=300,\n",
    "    multiplier=3.14\n",
    ")\n"
   ]
  },
  {
   "cell_type": "code",
   "outputs": [],
   "source": [
    "#Test function for MP Updater\n",
    "import time\n",
    "from gspread.exceptions import APIError\n",
    "\n",
    "def update_cell_with_backoff(update_function, retries=1000, initial_delay=1):\n",
    "    \"\"\"\n",
    "    Updates a cell with exponential backoff for handling API rate limits.\n",
    "    \n",
    "    :param update_function: The update function to call (e.g., MP_WS.update_cell).\n",
    "    :param retries: Number of retry attempts.\n",
    "    :param initial_delay: Initial delay for backoff in seconds.\n",
    "    \"\"\"\n",
    "    delay = initial_delay\n",
    "\n",
    "    for attempt in range(retries):\n",
    "        try:\n",
    "            update_function()  # Call the update function passed as an argument\n",
    "            print(\"Update successful!\")\n",
    "            return  # Exit if the update is successful\n",
    "        except APIError as e:\n",
    "            error_message = str(e)\n",
    "            if \"Quota exceeded\" in error_message or \"[429]\" in error_message:\n",
    "                print(f\"Quota exceeded. Retrying in {delay} seconds...\")\n",
    "                time.sleep(delay)\n",
    "                delay *= 2  # Exponential backoff\n",
    "            else:\n",
    "                raise  # Re-raise if it's a different error\n",
    "\n",
    "    print(f\"Failed to update cell after {retries} retries.\")\n"
   ],
   "metadata": {
    "collapsed": false
   },
   "id": "e93b6be589dfee1b"
  },
  {
   "cell_type": "code",
   "outputs": [],
   "source": [
    "# Example of usage\n",
    "update_cell_with_backoff(lambda: MP_WS.update_cell(row_value[7], column_value, swapped_tasks_3PL))\n"
   ],
   "metadata": {
    "collapsed": false
   },
   "id": "32c502dcac3497b6"
  }
 ],
 "metadata": {
  "kernelspec": {
   "display_name": "Python 3",
   "language": "python",
   "name": "python3"
  },
  "language_info": {
   "codemirror_mode": {
    "name": "ipython",
    "version": 2
   },
   "file_extension": ".py",
   "mimetype": "text/x-python",
   "name": "python",
   "nbconvert_exporter": "python",
   "pygments_lexer": "ipython2",
   "version": "2.7.6"
  }
 },
 "nbformat": 4,
 "nbformat_minor": 5
}
